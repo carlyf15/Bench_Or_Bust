{
 "cells": [
  {
   "cell_type": "markdown",
   "metadata": {},
   "source": [
    "# Modeling Time!"
   ]
  },
  {
   "cell_type": "markdown",
   "metadata": {},
   "source": [
    "We have a fairly good idea of what the data tells us about injuries, but now it's time to use it to tell a story about the future. Can we predict which body part will be injured? Or which position group? Let's find out. First, let's do a quick linear regression model in sci-kit learn."
   ]
  },
  {
   "cell_type": "code",
   "execution_count": 1,
   "metadata": {},
   "outputs": [],
   "source": [
    "#import necessary programs\n",
    "import pandas as pd\n",
    "import numpy as np\n",
    "import matplotlib.pyplot as plt\n",
    "%matplotlib inline\n",
    "from sklearn.linear_model import Lasso, Ridge, LogisticRegression\n",
    "from sklearn.preprocessing import MinMaxScaler, StandardScaler\n",
    "from sklearn.model_selection import train_test_split, GridSearchCV\n",
    "from sklearn.metrics import roc_curve, auc, accuracy_score, confusion_matrix, classification_report, f1_score\n",
    "from sklearn.tree import DecisionTreeClassifier\n",
    "from sklearn.ensemble import BaggingClassifier, RandomForestClassifier\n",
    "from sklearn.neighbors import KNeighborsClassifier\n",
    "from sklearn.svm import SVC\n",
    "from yellowbrick.classifier import ConfusionMatrix\n",
    "import seaborn as sns\n",
    "from sklearn.pipeline import Pipeline\n",
    "import warnings\n",
    "warnings.filterwarnings('ignore')\n",
    "import xgboost as xgb"
   ]
  },
  {
   "cell_type": "code",
   "execution_count": 2,
   "metadata": {},
   "outputs": [],
   "source": [
    "#upload csv from analysis \n",
    "df = pd.read_csv('./data/NFL.csv')"
   ]
  },
  {
   "cell_type": "code",
   "execution_count": 3,
   "metadata": {},
   "outputs": [
    {
     "data": {
      "text/plain": [
       "(77, 8)"
      ]
     },
     "execution_count": 3,
     "metadata": {},
     "output_type": "execute_result"
    }
   ],
   "source": [
    "df.head()\n",
    "df.shape"
   ]
  },
  {
   "cell_type": "code",
   "execution_count": 4,
   "metadata": {},
   "outputs": [
    {
     "data": {
      "text/plain": [
       "Index(['StadiumType', 'FieldType', 'Temperature', 'PlayType', 'Position',\n",
       "       'PositionGroup', 'BodyPart', 'days_missed'],\n",
       "      dtype='object')"
      ]
     },
     "execution_count": 4,
     "metadata": {},
     "output_type": "execute_result"
    }
   ],
   "source": [
    "df.columns"
   ]
  },
  {
   "cell_type": "markdown",
   "metadata": {},
   "source": [
    "Both Position and PositionGroup are still in our data. Let's keep PositionGroup"
   ]
  },
  {
   "cell_type": "code",
   "execution_count": 5,
   "metadata": {},
   "outputs": [],
   "source": [
    "df = df.drop(columns='Position')"
   ]
  },
  {
   "cell_type": "markdown",
   "metadata": {},
   "source": [
    "### Feature Selection "
   ]
  },
  {
   "cell_type": "markdown",
   "metadata": {},
   "source": [
    "At this point out dataset is fairly small, just 77 rows of data in 8 columns. However this will change when we create dummy data for all the categorical data. Let's do that first and then begin with using random forests to identify our most important features. "
   ]
  },
  {
   "cell_type": "code",
   "execution_count": 6,
   "metadata": {},
   "outputs": [],
   "source": [
    "#Seperate target and dependents\n",
    "np.random.seed(12)\n",
    "X = df.drop('days_missed', axis=1)\n",
    "X = pd.get_dummies(X)\n",
    "y = df.days_missed"
   ]
  },
  {
   "cell_type": "code",
   "execution_count": 7,
   "metadata": {},
   "outputs": [
    {
     "data": {
      "text/html": [
       "<div>\n",
       "<style scoped>\n",
       "    .dataframe tbody tr th:only-of-type {\n",
       "        vertical-align: middle;\n",
       "    }\n",
       "\n",
       "    .dataframe tbody tr th {\n",
       "        vertical-align: top;\n",
       "    }\n",
       "\n",
       "    .dataframe thead th {\n",
       "        text-align: right;\n",
       "    }\n",
       "</style>\n",
       "<table border=\"1\" class=\"dataframe\">\n",
       "  <thead>\n",
       "    <tr style=\"text-align: right;\">\n",
       "      <th></th>\n",
       "      <th>StadiumType_Dome</th>\n",
       "      <th>StadiumType_Indoor</th>\n",
       "      <th>StadiumType_Outdoor</th>\n",
       "      <th>StadiumType_Partial Outdoor</th>\n",
       "      <th>StadiumType_Retractable Roof</th>\n",
       "      <th>StadiumType_Unknown</th>\n",
       "      <th>FieldType_Natural</th>\n",
       "      <th>FieldType_Synthetic</th>\n",
       "      <th>Temperature_30-39</th>\n",
       "      <th>Temperature_40-49</th>\n",
       "      <th>...</th>\n",
       "      <th>PositionGroup_DB</th>\n",
       "      <th>PositionGroup_DL</th>\n",
       "      <th>PositionGroup_LB</th>\n",
       "      <th>PositionGroup_OL</th>\n",
       "      <th>PositionGroup_RB</th>\n",
       "      <th>PositionGroup_TE</th>\n",
       "      <th>PositionGroup_WR</th>\n",
       "      <th>BodyPart_Ankle</th>\n",
       "      <th>BodyPart_Foot</th>\n",
       "      <th>BodyPart_Knee</th>\n",
       "    </tr>\n",
       "  </thead>\n",
       "  <tbody>\n",
       "    <tr>\n",
       "      <td>0</td>\n",
       "      <td>0</td>\n",
       "      <td>0</td>\n",
       "      <td>1</td>\n",
       "      <td>0</td>\n",
       "      <td>0</td>\n",
       "      <td>0</td>\n",
       "      <td>1</td>\n",
       "      <td>0</td>\n",
       "      <td>0</td>\n",
       "      <td>0</td>\n",
       "      <td>...</td>\n",
       "      <td>0</td>\n",
       "      <td>0</td>\n",
       "      <td>0</td>\n",
       "      <td>0</td>\n",
       "      <td>1</td>\n",
       "      <td>0</td>\n",
       "      <td>0</td>\n",
       "      <td>0</td>\n",
       "      <td>0</td>\n",
       "      <td>1</td>\n",
       "    </tr>\n",
       "    <tr>\n",
       "      <td>1</td>\n",
       "      <td>0</td>\n",
       "      <td>0</td>\n",
       "      <td>1</td>\n",
       "      <td>0</td>\n",
       "      <td>0</td>\n",
       "      <td>0</td>\n",
       "      <td>1</td>\n",
       "      <td>0</td>\n",
       "      <td>0</td>\n",
       "      <td>0</td>\n",
       "      <td>...</td>\n",
       "      <td>0</td>\n",
       "      <td>0</td>\n",
       "      <td>0</td>\n",
       "      <td>0</td>\n",
       "      <td>0</td>\n",
       "      <td>1</td>\n",
       "      <td>0</td>\n",
       "      <td>0</td>\n",
       "      <td>1</td>\n",
       "      <td>0</td>\n",
       "    </tr>\n",
       "    <tr>\n",
       "      <td>2</td>\n",
       "      <td>0</td>\n",
       "      <td>0</td>\n",
       "      <td>1</td>\n",
       "      <td>0</td>\n",
       "      <td>0</td>\n",
       "      <td>0</td>\n",
       "      <td>1</td>\n",
       "      <td>0</td>\n",
       "      <td>0</td>\n",
       "      <td>0</td>\n",
       "      <td>...</td>\n",
       "      <td>1</td>\n",
       "      <td>0</td>\n",
       "      <td>0</td>\n",
       "      <td>0</td>\n",
       "      <td>0</td>\n",
       "      <td>0</td>\n",
       "      <td>0</td>\n",
       "      <td>0</td>\n",
       "      <td>0</td>\n",
       "      <td>1</td>\n",
       "    </tr>\n",
       "    <tr>\n",
       "      <td>3</td>\n",
       "      <td>0</td>\n",
       "      <td>0</td>\n",
       "      <td>1</td>\n",
       "      <td>0</td>\n",
       "      <td>0</td>\n",
       "      <td>0</td>\n",
       "      <td>1</td>\n",
       "      <td>0</td>\n",
       "      <td>0</td>\n",
       "      <td>1</td>\n",
       "      <td>...</td>\n",
       "      <td>0</td>\n",
       "      <td>0</td>\n",
       "      <td>0</td>\n",
       "      <td>0</td>\n",
       "      <td>0</td>\n",
       "      <td>0</td>\n",
       "      <td>1</td>\n",
       "      <td>0</td>\n",
       "      <td>0</td>\n",
       "      <td>1</td>\n",
       "    </tr>\n",
       "    <tr>\n",
       "      <td>4</td>\n",
       "      <td>0</td>\n",
       "      <td>0</td>\n",
       "      <td>1</td>\n",
       "      <td>0</td>\n",
       "      <td>0</td>\n",
       "      <td>0</td>\n",
       "      <td>1</td>\n",
       "      <td>0</td>\n",
       "      <td>0</td>\n",
       "      <td>0</td>\n",
       "      <td>...</td>\n",
       "      <td>0</td>\n",
       "      <td>0</td>\n",
       "      <td>0</td>\n",
       "      <td>1</td>\n",
       "      <td>0</td>\n",
       "      <td>0</td>\n",
       "      <td>0</td>\n",
       "      <td>0</td>\n",
       "      <td>0</td>\n",
       "      <td>1</td>\n",
       "    </tr>\n",
       "  </tbody>\n",
       "</table>\n",
       "<p>5 rows × 32 columns</p>\n",
       "</div>"
      ],
      "text/plain": [
       "   StadiumType_Dome  StadiumType_Indoor  StadiumType_Outdoor  \\\n",
       "0                 0                   0                    1   \n",
       "1                 0                   0                    1   \n",
       "2                 0                   0                    1   \n",
       "3                 0                   0                    1   \n",
       "4                 0                   0                    1   \n",
       "\n",
       "   StadiumType_Partial Outdoor  StadiumType_Retractable Roof  \\\n",
       "0                            0                             0   \n",
       "1                            0                             0   \n",
       "2                            0                             0   \n",
       "3                            0                             0   \n",
       "4                            0                             0   \n",
       "\n",
       "   StadiumType_Unknown  FieldType_Natural  FieldType_Synthetic  \\\n",
       "0                    0                  1                    0   \n",
       "1                    0                  1                    0   \n",
       "2                    0                  1                    0   \n",
       "3                    0                  1                    0   \n",
       "4                    0                  1                    0   \n",
       "\n",
       "   Temperature_30-39  Temperature_40-49  ...  PositionGroup_DB  \\\n",
       "0                  0                  0  ...                 0   \n",
       "1                  0                  0  ...                 0   \n",
       "2                  0                  0  ...                 1   \n",
       "3                  0                  1  ...                 0   \n",
       "4                  0                  0  ...                 0   \n",
       "\n",
       "   PositionGroup_DL  PositionGroup_LB  PositionGroup_OL  PositionGroup_RB  \\\n",
       "0                 0                 0                 0                 1   \n",
       "1                 0                 0                 0                 0   \n",
       "2                 0                 0                 0                 0   \n",
       "3                 0                 0                 0                 0   \n",
       "4                 0                 0                 1                 0   \n",
       "\n",
       "   PositionGroup_TE  PositionGroup_WR  BodyPart_Ankle  BodyPart_Foot  \\\n",
       "0                 0                 0               0              0   \n",
       "1                 1                 0               0              1   \n",
       "2                 0                 0               0              0   \n",
       "3                 0                 1               0              0   \n",
       "4                 0                 0               0              0   \n",
       "\n",
       "   BodyPart_Knee  \n",
       "0              1  \n",
       "1              0  \n",
       "2              1  \n",
       "3              1  \n",
       "4              1  \n",
       "\n",
       "[5 rows x 32 columns]"
      ]
     },
     "execution_count": 7,
     "metadata": {},
     "output_type": "execute_result"
    }
   ],
   "source": [
    "X.head()"
   ]
  },
  {
   "cell_type": "markdown",
   "metadata": {},
   "source": [
    "Alright, now that we have our data set up let's perform a random forest for feature importance.  "
   ]
  },
  {
   "cell_type": "code",
   "execution_count": 8,
   "metadata": {},
   "outputs": [],
   "source": [
    "#train test split\n",
    "X_train, X_test, y_train, y_test = train_test_split(X, y, random_state=11, test_size=.2)"
   ]
  },
  {
   "cell_type": "code",
   "execution_count": 9,
   "metadata": {},
   "outputs": [
    {
     "name": "stdout",
     "output_type": "stream",
     "text": [
      "61\n"
     ]
    },
    {
     "data": {
      "text/plain": [
       "16"
      ]
     },
     "execution_count": 9,
     "metadata": {},
     "output_type": "execute_result"
    }
   ],
   "source": [
    "print(len(y_train))\n",
    "len(y_test)"
   ]
  },
  {
   "cell_type": "code",
   "execution_count": 10,
   "metadata": {},
   "outputs": [
    {
     "data": {
      "text/plain": [
       "RandomForestClassifier(bootstrap=True, class_weight=None, criterion='gini',\n",
       "                       max_depth=6, max_features='auto', max_leaf_nodes=None,\n",
       "                       min_impurity_decrease=0.0, min_impurity_split=None,\n",
       "                       min_samples_leaf=1, min_samples_split=2,\n",
       "                       min_weight_fraction_leaf=0.0, n_estimators=25,\n",
       "                       n_jobs=None, oob_score=False, random_state=None,\n",
       "                       verbose=0, warm_start=False)"
      ]
     },
     "execution_count": 10,
     "metadata": {},
     "output_type": "execute_result"
    }
   ],
   "source": [
    "#first building a baseline decision tree\n",
    "nfl_forest= nfl_for = RandomForestClassifier(n_estimators = 25, max_depth=6)\n",
    "nfl_forest.fit(X_train, y_train)"
   ]
  },
  {
   "cell_type": "code",
   "execution_count": 11,
   "metadata": {},
   "outputs": [
    {
     "data": {
      "image/png": "[encoded data removed]",
      "text/plain": [
       "<Figure size 1440x1080 with 1 Axes>"
      ]
     },
     "metadata": {},
     "output_type": "display_data"
    }
   ],
   "source": [
    "#feature importance \n",
    "sns.set_style('darkgrid')\n",
    "colors = sns.set_palette('colorblind')\n",
    "\n",
    "def plot_feature_importances(model):\n",
    "    n_features = X_train.shape[1]\n",
    "    plt.figure(figsize=(20,15))\n",
    "    X = range(n_features)\n",
    "    plt.barh(X, model.feature_importances_, align='center') \n",
    "    plt.yticks(np.arange(n_features), X_train.columns.values) \n",
    "    plt.xlabel('Feature importance')\n",
    "    plt.ylabel('Feature')\n",
    "\n",
    "plot_feature_importances(nfl_forest)"
   ]
  },
  {
   "cell_type": "code",
   "execution_count": 12,
   "metadata": {},
   "outputs": [
    {
     "data": {
      "text/plain": [
       "array([0.01024224, 0.05221962, 0.02641585, 0.0115717 , 0.03113216,\n",
       "       0.03362208, 0.05621555, 0.04282037, 0.04088989, 0.03217337,\n",
       "       0.02254085, 0.03165216, 0.03414973, 0.03514317, 0.02578551,\n",
       "       0.        , 0.        , 0.04955702, 0.01961899, 0.0110725 ,\n",
       "       0.0158008 , 0.04058953, 0.02679349, 0.02342114, 0.05562656,\n",
       "       0.03548022, 0.01926865, 0.00957743, 0.03060217, 0.05400101,\n",
       "       0.06385912, 0.05815714])"
      ]
     },
     "execution_count": 12,
     "metadata": {},
     "output_type": "execute_result"
    }
   ],
   "source": [
    "nfl_forest.feature_importances_"
   ]
  },
  {
   "cell_type": "code",
   "execution_count": 13,
   "metadata": {},
   "outputs": [],
   "source": [
    "#put features in a dictionary\n",
    "features = {}\n",
    "\n",
    "for feature, importance in zip(X.columns, nfl_forest.feature_importances_):\n",
    "    features[feature] = importance"
   ]
  },
  {
   "cell_type": "code",
   "execution_count": 14,
   "metadata": {},
   "outputs": [],
   "source": [
    "#create dataframe with importances\n",
    "nfl_importance = pd.DataFrame.from_dict(features, orient='index')"
   ]
  },
  {
   "cell_type": "code",
   "execution_count": 15,
   "metadata": {},
   "outputs": [],
   "source": [
    "nfl_importance = nfl_importance.rename(columns={0:'Importance'})"
   ]
  },
  {
   "cell_type": "code",
   "execution_count": 16,
   "metadata": {},
   "outputs": [],
   "source": [
    "#sort by level of importance \n",
    "nfl_importance.sort_values(by='Importance', ascending=False, inplace=True)\n",
    "nfl_feats = nfl_importance.head(50).index"
   ]
  },
  {
   "cell_type": "code",
   "execution_count": 17,
   "metadata": {},
   "outputs": [
    {
     "data": {
      "text/plain": [
       "Index(['BodyPart_Foot', 'BodyPart_Knee', 'FieldType_Natural',\n",
       "       'PositionGroup_LB', 'BodyPart_Ankle', 'StadiumType_Indoor',\n",
       "       'PlayType_Pass', 'FieldType_Synthetic', 'Temperature_30-39',\n",
       "       'PlayType_Rush', 'PositionGroup_OL', 'Temperature_80-89',\n",
       "       'Temperature_70-79', 'StadiumType_Unknown', 'Temperature_40-49',\n",
       "       'Temperature_60-69', 'StadiumType_Retractable Roof', 'PositionGroup_WR',\n",
       "       'PositionGroup_DB', 'StadiumType_Outdoor', 'PlayType_Kickoff',\n",
       "       'PositionGroup_DL', 'Temperature_50-59', 'PlayType_Punt',\n",
       "       'PositionGroup_RB', 'PlayType_Punt Returned',\n",
       "       'StadiumType_Partial Outdoor', 'PlayType_Punt Not Returned',\n",
       "       'StadiumType_Dome', 'PositionGroup_TE', 'PlayType_Kickoff Not Returned',\n",
       "       'PlayType_Kickoff Returned'],\n",
       "      dtype='object')"
      ]
     },
     "execution_count": 17,
     "metadata": {},
     "output_type": "execute_result"
    }
   ],
   "source": [
    "nfl_feats"
   ]
  },
  {
   "cell_type": "markdown",
   "metadata": {},
   "source": [
    "Now we've got all our features by order of importance in one place. I can easily use this to manipulate the numebr of features included in our model for accuracy. "
   ]
  },
  {
   "cell_type": "markdown",
   "metadata": {},
   "source": [
    "Let's also take a moment to make some observation about the most important features: \n",
    "\n",
    "1. BodyPart_Ankle\n",
    "2. Temperature_80-89\n",
    "3. BodyPart_Foot\n",
    "4. Position_WR\n",
    "5. Fieldtype_Synthetic\n",
    "\n",
    "This is already informative. Although we can't say how accurately these things predict time missed they seem to be the most important predictors at baseline. Temperature is intersting in the number two spot - as mentioned previously this is likely more correlation with the beginning of the season but I still wouldn't have guessed it would be in this position. Also, synthetic field types rolling in at number five tells us that perhaps turf fields cause more injuries than natural field types (although in this importance ranking the natural field types comes only 4 features later). "
   ]
  },
  {
   "cell_type": "markdown",
   "metadata": {},
   "source": [
    "## Baseline "
   ]
  },
  {
   "cell_type": "markdown",
   "metadata": {},
   "source": [
    "In order to evaluate how well our model is performing, it is important to creat a baseline (a.k.a. what we might get from randomly guessing). I'll used the following formula for that. \n",
    "\n",
    "P(class is 0) * P(guess is 0) + P(class is 1) * P(guess is 1) + etc."
   ]
  },
  {
   "cell_type": "code",
   "execution_count": 18,
   "metadata": {},
   "outputs": [
    {
     "data": {
      "text/plain": [
       "29.60026986001012"
      ]
     },
     "execution_count": 18,
     "metadata": {},
     "output_type": "execute_result"
    }
   ],
   "source": [
    "Baseline = ((len(y[y==1])/len(y)) * (len(y[y==1])/len(y)) + (len(y[y==2])/len(y)) * (len(y[y==2])/len(y)) + (\n",
    "    len(y[y==3])/len(y)) * (len(y[y==3])/len(y)) + (len(y[y==4])/len(y)) * (len(y[y==4])/len(y))) * 100\n",
    "Baseline"
   ]
  },
  {
   "cell_type": "code",
   "execution_count": null,
   "metadata": {},
   "outputs": [],
   "source": []
  },
  {
   "cell_type": "markdown",
   "metadata": {},
   "source": [
    "## Model Functions"
   ]
  },
  {
   "cell_type": "markdown",
   "metadata": {},
   "source": [
    "Before beginning to model I'd like to discuss my approach. I'd like to utilize several different types of classification models (logisitic regression, Decision Tree, KNN, and random forest and compare their accuracy with various numbers of featured included. \n",
    "\n",
    "The first step below is to create functions for these models so they are easily used later. To do this I'll create a Pipeline that includes all the models I would like to explore. "
   ]
  },
  {
   "cell_type": "code",
   "execution_count": 19,
   "metadata": {},
   "outputs": [],
   "source": [
    "#first create several pipelines to use in a function\n",
    "#Logistic Regression\n",
    "LR = Pipeline([('ss', StandardScaler()),\n",
    "                ('logr', LogisticRegression())])\n",
    "#KNN\n",
    "KNN = Pipeline([('ss', StandardScaler()),\n",
    "                ('knn', KNeighborsClassifier())])\n",
    "#Decision Tree\n",
    "DTree = Pipeline([('ss', StandardScaler()),\n",
    "                ('dtree', DecisionTreeClassifier())])\n",
    "#Random Forest\n",
    "RF = Pipeline([('ss', StandardScaler()),\n",
    "                ('rf', RandomForestClassifier())])\n",
    "#XGBoost\n",
    "XGB = Pipeline([('ss', StandardScaler()),\n",
    "                ('xgb', xgb.XGBClassifier())])"
   ]
  },
  {
   "cell_type": "code",
   "execution_count": 20,
   "metadata": {},
   "outputs": [],
   "source": [
    "Models = [LR, KNN, DTree, RF, XGB]\n",
    "Model_Names = ['Logistic Regression','K Nearest Neighbors','Decision Tree','Random Forest', 'XGBoost']\n",
    "\n",
    "def pipelines(X, y, random_state, test_size):\n",
    "    \n",
    "    #train/test split\n",
    "    X_train, X_test, y_train, y_test = train_test_split(X, y, random_state=random_state, test_size=test_size)\n",
    "    \n",
    "    #Fit/Predict models\n",
    "    for model, name in zip(Models, Model_Names):\n",
    "        #fitting\n",
    "        model.fit(X_train, y_train)\n",
    "        #predicting\n",
    "        train_preds = model.predict(X_train)\n",
    "        test_preds = model.predict(X_test)\n",
    "        training_accuracy = accuracy_score(y_train, train_preds)\n",
    "        testing_accuracy = accuracy_score(y_test, test_preds)\n",
    "        #confusion matrix\n",
    "        cm = ConfusionMatrix(model)\n",
    "        cm.fit(X_train, y_train)\n",
    "        cm.score(X_test, y_test)\n",
    "        #printing results\n",
    "        print('--------------------------', name,'----------------------------')\n",
    "        print('\\n')\n",
    "        print('The training accuracy is:', training_accuracy)\n",
    "        print('\\n')\n",
    "        print('The testing accuracy is:', testing_accuracy)\n",
    "        print('\\n')\n",
    "        print('-------Classification Report--------')\n",
    "        print(classification_report(y_test, test_preds, labels=[1,2,3,4]))\n",
    "        print('-------Confusion Matrix--------')\n",
    "        cm.show()           "
   ]
  },
  {
   "cell_type": "markdown",
   "metadata": {},
   "source": [
    "Let's give it a go with all our features included."
   ]
  },
  {
   "cell_type": "code",
   "execution_count": 21,
   "metadata": {},
   "outputs": [
    {
     "name": "stdout",
     "output_type": "stream",
     "text": [
      "-------------------------- Logistic Regression ----------------------------\n",
      "\n",
      "\n",
      "The training accuracy is: 0.8524590163934426\n",
      "\n",
      "\n",
      "The testing accuracy is: 0.375\n",
      "\n",
      "\n",
      "-------Classification Report--------\n",
      "              precision    recall  f1-score   support\n",
      "\n",
      "           1       1.00      0.40      0.57         5\n",
      "           2       0.33      0.50      0.40         4\n",
      "           3       0.00      0.00      0.00         0\n",
      "           4       0.40      0.29      0.33         7\n",
      "\n",
      "    accuracy                           0.38        16\n",
      "   macro avg       0.43      0.30      0.33        16\n",
      "weighted avg       0.57      0.38      0.42        16\n",
      "\n",
      "-------Confusion Matrix--------\n"
     ]
    },
    {
     "data": {
      "image/png": "[encoded data removed]",
      "text/plain": [
       "<Figure size 432x288 with 1 Axes>"
      ]
     },
     "metadata": {},
     "output_type": "display_data"
    },
    {
     "name": "stdout",
     "output_type": "stream",
     "text": [
      "-------------------------- K Nearest Neighbors ----------------------------\n",
      "\n",
      "\n",
      "The training accuracy is: 0.4918032786885246\n",
      "\n",
      "\n",
      "The testing accuracy is: 0.4375\n",
      "\n",
      "\n",
      "-------Classification Report--------\n",
      "              precision    recall  f1-score   support\n",
      "\n",
      "           1       0.43      0.60      0.50         5\n",
      "           2       0.33      0.50      0.40         4\n",
      "           3       0.00      0.00      0.00         0\n",
      "           4       0.67      0.29      0.40         7\n",
      "\n",
      "   micro avg       0.44      0.44      0.44        16\n",
      "   macro avg       0.36      0.35      0.33        16\n",
      "weighted avg       0.51      0.44      0.43        16\n",
      "\n",
      "-------Confusion Matrix--------\n"
     ]
    },
    {
     "data": {
      "image/png": "[encoded data removed]",
      "text/plain": [
       "<Figure size 432x288 with 1 Axes>"
      ]
     },
     "metadata": {},
     "output_type": "display_data"
    },
    {
     "name": "stdout",
     "output_type": "stream",
     "text": [
      "-------------------------- Decision Tree ----------------------------\n",
      "\n",
      "\n",
      "The training accuracy is: 0.9836065573770492\n",
      "\n",
      "\n",
      "The testing accuracy is: 0.375\n",
      "\n",
      "\n",
      "-------Classification Report--------\n",
      "              precision    recall  f1-score   support\n",
      "\n",
      "           1       0.40      0.40      0.40         5\n",
      "           2       0.25      0.25      0.25         4\n",
      "           3       0.00      0.00      0.00         0\n",
      "           4       0.43      0.43      0.43         7\n",
      "\n",
      "   micro avg       0.38      0.38      0.38        16\n",
      "   macro avg       0.27      0.27      0.27        16\n",
      "weighted avg       0.38      0.38      0.38        16\n",
      "\n",
      "-------Confusion Matrix--------\n"
     ]
    },
    {
     "data": {
      "image/png": "[encoded data removed]",
      "text/plain": [
       "<Figure size 432x288 with 1 Axes>"
      ]
     },
     "metadata": {},
     "output_type": "display_data"
    },
    {
     "name": "stdout",
     "output_type": "stream",
     "text": [
      "-------------------------- Random Forest ----------------------------\n",
      "\n",
      "\n",
      "The training accuracy is: 0.9836065573770492\n",
      "\n",
      "\n",
      "The testing accuracy is: 0.25\n",
      "\n",
      "\n",
      "-------Classification Report--------\n",
      "              precision    recall  f1-score   support\n",
      "\n",
      "           1       0.50      0.20      0.29         5\n",
      "           2       0.14      0.25      0.18         4\n",
      "           3       0.00      0.00      0.00         0\n",
      "           4       0.40      0.29      0.33         7\n",
      "\n",
      "    accuracy                           0.25        16\n",
      "   macro avg       0.26      0.18      0.20        16\n",
      "weighted avg       0.37      0.25      0.28        16\n",
      "\n",
      "-------Confusion Matrix--------\n"
     ]
    },
    {
     "data": {
      "image/png": "[encoded data removed]",
      "text/plain": [
       "<Figure size 432x288 with 1 Axes>"
      ]
     },
     "metadata": {},
     "output_type": "display_data"
    },
    {
     "name": "stdout",
     "output_type": "stream",
     "text": [
      "-------------------------- XGBoost ----------------------------\n",
      "\n",
      "\n",
      "The training accuracy is: 0.9672131147540983\n",
      "\n",
      "\n",
      "The testing accuracy is: 0.3125\n",
      "\n",
      "\n",
      "-------Classification Report--------\n",
      "              precision    recall  f1-score   support\n",
      "\n",
      "           1       0.40      0.40      0.40         5\n",
      "           2       0.25      0.25      0.25         4\n",
      "           3       0.00      0.00      0.00         0\n",
      "           4       0.33      0.29      0.31         7\n",
      "\n",
      "    accuracy                           0.31        16\n",
      "   macro avg       0.25      0.23      0.24        16\n",
      "weighted avg       0.33      0.31      0.32        16\n",
      "\n",
      "-------Confusion Matrix--------\n"
     ]
    },
    {
     "data": {
      "image/png": "[encoded data removed]",
      "text/plain": [
       "<Figure size 432x288 with 1 Axes>"
      ]
     },
     "metadata": {},
     "output_type": "display_data"
    }
   ],
   "source": [
    "pipelines(X, y, 42, .20)"
   ]
  },
  {
   "cell_type": "markdown",
   "metadata": {},
   "source": [
    "## Feature Selection Cont'd and Hyperparameter Tuning"
   ]
  },
  {
   "cell_type": "markdown",
   "metadata": {},
   "source": [
    "There are definitely some problems going on here. First, there is some obvious overfittig happening as evidence by the huge drop in accuracy between testing/training. "
   ]
  },
  {
   "cell_type": "code",
   "execution_count": 22,
   "metadata": {},
   "outputs": [
    {
     "data": {
      "text/plain": [
       "32"
      ]
     },
     "execution_count": 22,
     "metadata": {},
     "output_type": "execute_result"
    }
   ],
   "source": [
    "len(nfl_feats)"
   ]
  },
  {
   "cell_type": "markdown",
   "metadata": {},
   "source": [
    "There are 32 features in total. Let's try iterating through our pipelines with various numbers of features. I'll start with fewer and add features (in order of importance) from there. To hone in on the performance aspects we're focusing on here I'm going to modify our pipeline definition just a tad. "
   ]
  },
  {
   "cell_type": "code",
   "execution_count": 23,
   "metadata": {},
   "outputs": [],
   "source": [
    "Models = [LR, KNN, DTree, RF, XGB]\n",
    "Model_Names = ['Logistic Regression','K Nearest Neighbors','Decision Tree','Random Forest', 'XGBoost']\n",
    "\n",
    "def pipelines_compare(X, y, random_state, test_size):\n",
    "    \n",
    "    #train/test split\n",
    "    X_train, X_test, y_train, y_test = train_test_split(X, y, random_state=random_state, test_size=test_size)\n",
    "    \n",
    "    #Fit/Predict models\n",
    "    for model, name in zip(Models, Model_Names):\n",
    "        #fitting\n",
    "        model.fit(X_train, y_train)\n",
    "        #predicting\n",
    "        train_preds = model.predict(X_train)\n",
    "        test_preds = model.predict(X_test)\n",
    "        training_accuracy = accuracy_score(y_train, train_preds)\n",
    "        testing_accuracy = accuracy_score(y_test, test_preds)\n",
    "        #printing results\n",
    "        print('--------------------------', name,'----------------------------')\n",
    "        print('\\n')\n",
    "        print('Training Accuracy:', training_accuracy, 'Testing Accuracy', testing_accuracy)\n",
    "        print(classification_report(y_test, test_preds, labels=[1,2,3,4]))"
   ]
  },
  {
   "cell_type": "code",
   "execution_count": 24,
   "metadata": {},
   "outputs": [
    {
     "name": "stdout",
     "output_type": "stream",
     "text": [
      "5 features\n",
      "\n",
      "\n",
      "-------------------------- Logistic Regression ----------------------------\n",
      "\n",
      "\n",
      "Training Accuracy: 0.47540983606557374 Testing Accuracy 0.3125\n",
      "              precision    recall  f1-score   support\n",
      "\n",
      "           1       0.00      0.00      0.00         5\n",
      "           2       0.31      1.00      0.47         4\n",
      "           3       0.00      0.00      0.00         0\n",
      "           4       0.50      0.14      0.22         7\n",
      "\n",
      "    accuracy                           0.31        16\n",
      "   macro avg       0.20      0.29      0.17        16\n",
      "weighted avg       0.30      0.31      0.21        16\n",
      "\n",
      "-------------------------- K Nearest Neighbors ----------------------------\n",
      "\n",
      "\n",
      "Training Accuracy: 0.4918032786885246 Testing Accuracy 0.4375\n",
      "              precision    recall  f1-score   support\n",
      "\n",
      "           1       1.00      0.20      0.33         5\n",
      "           2       0.33      1.00      0.50         4\n",
      "           3       0.00      0.00      0.00         0\n",
      "           4       0.67      0.29      0.40         7\n",
      "\n",
      "   micro avg       0.44      0.44      0.44        16\n",
      "   macro avg       0.50      0.37      0.31        16\n",
      "weighted avg       0.69      0.44      0.40        16\n",
      "\n",
      "-------------------------- Decision Tree ----------------------------\n",
      "\n",
      "\n",
      "Training Accuracy: 0.5081967213114754 Testing Accuracy 0.4375\n",
      "              precision    recall  f1-score   support\n",
      "\n",
      "           1       0.50      0.40      0.44         5\n",
      "           2       0.44      1.00      0.62         4\n",
      "           3       0.00      0.00      0.00         0\n",
      "           4       0.50      0.14      0.22         7\n",
      "\n",
      "    accuracy                           0.44        16\n",
      "   macro avg       0.36      0.39      0.32        16\n",
      "weighted avg       0.49      0.44      0.39        16\n",
      "\n",
      "-------------------------- Random Forest ----------------------------\n",
      "\n",
      "\n",
      "Training Accuracy: 0.5081967213114754 Testing Accuracy 0.375\n",
      "              precision    recall  f1-score   support\n",
      "\n",
      "           1       1.00      0.20      0.33         5\n",
      "           2       0.33      1.00      0.50         4\n",
      "           3       0.00      0.00      0.00         0\n",
      "           4       0.50      0.14      0.22         7\n",
      "\n",
      "    accuracy                           0.38        16\n",
      "   macro avg       0.46      0.34      0.26        16\n",
      "weighted avg       0.61      0.38      0.33        16\n",
      "\n",
      "-------------------------- XGBoost ----------------------------\n",
      "\n",
      "\n",
      "Training Accuracy: 0.5081967213114754 Testing Accuracy 0.375\n",
      "              precision    recall  f1-score   support\n",
      "\n",
      "           1       1.00      0.20      0.33         5\n",
      "           2       0.33      1.00      0.50         4\n",
      "           3       0.00      0.00      0.00         0\n",
      "           4       0.50      0.14      0.22         7\n",
      "\n",
      "    accuracy                           0.38        16\n",
      "   macro avg       0.46      0.34      0.26        16\n",
      "weighted avg       0.61      0.38      0.33        16\n",
      "\n",
      "\n",
      "\n",
      "10 features\n",
      "\n",
      "\n",
      "-------------------------- Logistic Regression ----------------------------\n",
      "\n",
      "\n",
      "Training Accuracy: 0.6229508196721312 Testing Accuracy 0.25\n",
      "              precision    recall  f1-score   support\n",
      "\n",
      "           1       1.00      0.20      0.33         5\n",
      "           2       0.22      0.50      0.31         4\n",
      "           3       0.00      0.00      0.00         0\n",
      "           4       0.25      0.14      0.18         7\n",
      "\n",
      "    accuracy                           0.25        16\n",
      "   macro avg       0.37      0.21      0.21        16\n",
      "weighted avg       0.48      0.25      0.26        16\n",
      "\n",
      "-------------------------- K Nearest Neighbors ----------------------------\n",
      "\n",
      "\n",
      "Training Accuracy: 0.5573770491803278 Testing Accuracy 0.25\n",
      "              precision    recall  f1-score   support\n",
      "\n",
      "           1       0.40      0.40      0.40         5\n",
      "           2       0.14      0.25      0.18         4\n",
      "           3       0.00      0.00      0.00         0\n",
      "           4       0.33      0.14      0.20         7\n",
      "\n",
      "    accuracy                           0.25        16\n",
      "   macro avg       0.22      0.20      0.20        16\n",
      "weighted avg       0.31      0.25      0.26        16\n",
      "\n",
      "-------------------------- Decision Tree ----------------------------\n",
      "\n",
      "\n",
      "Training Accuracy: 0.7540983606557377 Testing Accuracy 0.25\n",
      "              precision    recall  f1-score   support\n",
      "\n",
      "           1       0.60      0.60      0.60         5\n",
      "           2       0.00      0.00      0.00         4\n",
      "           3       0.00      0.00      0.00         0\n",
      "           4       0.33      0.14      0.20         7\n",
      "\n",
      "    accuracy                           0.25        16\n",
      "   macro avg       0.23      0.19      0.20        16\n",
      "weighted avg       0.33      0.25      0.28        16\n",
      "\n",
      "-------------------------- Random Forest ----------------------------\n",
      "\n",
      "\n",
      "Training Accuracy: 0.7377049180327869 Testing Accuracy 0.1875\n",
      "              precision    recall  f1-score   support\n",
      "\n",
      "           1       1.00      0.20      0.33         5\n",
      "           2       0.25      0.50      0.33         4\n",
      "           3       0.00      0.00      0.00         0\n",
      "           4       0.00      0.00      0.00         7\n",
      "\n",
      "    accuracy                           0.19        16\n",
      "   macro avg       0.31      0.17      0.17        16\n",
      "weighted avg       0.38      0.19      0.19        16\n",
      "\n",
      "-------------------------- XGBoost ----------------------------\n",
      "\n",
      "\n",
      "Training Accuracy: 0.6885245901639344 Testing Accuracy 0.0625\n",
      "              precision    recall  f1-score   support\n",
      "\n",
      "           1       0.33      0.20      0.25         5\n",
      "           2       0.00      0.00      0.00         4\n",
      "           3       0.00      0.00      0.00         0\n",
      "           4       0.00      0.00      0.00         7\n",
      "\n",
      "    accuracy                           0.06        16\n",
      "   macro avg       0.08      0.05      0.06        16\n",
      "weighted avg       0.10      0.06      0.08        16\n",
      "\n",
      "\n",
      "\n",
      "20 features\n",
      "\n",
      "\n",
      "-------------------------- Logistic Regression ----------------------------\n",
      "\n",
      "\n",
      "Training Accuracy: 0.7377049180327869 Testing Accuracy 0.3125\n",
      "              precision    recall  f1-score   support\n",
      "\n",
      "           1       1.00      0.40      0.57         5\n",
      "           2       0.29      0.50      0.36         4\n",
      "           3       0.00      0.00      0.00         0\n",
      "           4       0.25      0.14      0.18         7\n",
      "\n",
      "    accuracy                           0.31        16\n",
      "   macro avg       0.38      0.26      0.28        16\n",
      "weighted avg       0.49      0.31      0.35        16\n",
      "\n",
      "-------------------------- K Nearest Neighbors ----------------------------\n",
      "\n",
      "\n",
      "Training Accuracy: 0.45901639344262296 Testing Accuracy 0.1875\n",
      "              precision    recall  f1-score   support\n",
      "\n",
      "           1       0.00      0.00      0.00         5\n",
      "           2       0.38      0.75      0.50         4\n",
      "           3       0.00      0.00      0.00         0\n",
      "           4       0.00      0.00      0.00         7\n",
      "\n",
      "    accuracy                           0.19        16\n",
      "   macro avg       0.09      0.19      0.12        16\n",
      "weighted avg       0.09      0.19      0.12        16\n",
      "\n",
      "-------------------------- Decision Tree ----------------------------\n",
      "\n",
      "\n",
      "Training Accuracy: 0.9672131147540983 Testing Accuracy 0.3125\n",
      "              precision    recall  f1-score   support\n",
      "\n",
      "           1       0.33      0.40      0.36         5\n",
      "           2       0.25      0.25      0.25         4\n",
      "           3       0.00      0.00      0.00         0\n",
      "           4       0.40      0.29      0.33         7\n",
      "\n",
      "    accuracy                           0.31        16\n",
      "   macro avg       0.25      0.23      0.24        16\n",
      "weighted avg       0.34      0.31      0.32        16\n",
      "\n",
      "-------------------------- Random Forest ----------------------------\n",
      "\n",
      "\n",
      "Training Accuracy: 0.9508196721311475 Testing Accuracy 0.375\n",
      "              precision    recall  f1-score   support\n",
      "\n",
      "           1       0.40      0.40      0.40         5\n",
      "           2       0.50      0.50      0.50         4\n",
      "           3       0.00      0.00      0.00         0\n",
      "           4       0.40      0.29      0.33         7\n",
      "\n",
      "    accuracy                           0.38        16\n",
      "   macro avg       0.33      0.30      0.31        16\n",
      "weighted avg       0.43      0.38      0.40        16\n",
      "\n",
      "-------------------------- XGBoost ----------------------------\n",
      "\n",
      "\n",
      "Training Accuracy: 0.9344262295081968 Testing Accuracy 0.375\n",
      "              precision    recall  f1-score   support\n",
      "\n",
      "           1       0.50      0.40      0.44         5\n",
      "           2       0.33      0.50      0.40         4\n",
      "           3       0.00      0.00      0.00         0\n",
      "           4       0.40      0.29      0.33         7\n",
      "\n",
      "    accuracy                           0.38        16\n",
      "   macro avg       0.31      0.30      0.29        16\n",
      "weighted avg       0.41      0.38      0.38        16\n",
      "\n",
      "\n",
      "\n",
      "30 features\n",
      "\n",
      "\n",
      "-------------------------- Logistic Regression ----------------------------\n",
      "\n",
      "\n",
      "Training Accuracy: 0.8524590163934426 Testing Accuracy 0.375\n",
      "              precision    recall  f1-score   support\n",
      "\n",
      "           1       1.00      0.40      0.57         5\n",
      "           2       0.33      0.50      0.40         4\n",
      "           3       0.00      0.00      0.00         0\n",
      "           4       0.40      0.29      0.33         7\n",
      "\n",
      "    accuracy                           0.38        16\n",
      "   macro avg       0.43      0.30      0.33        16\n",
      "weighted avg       0.57      0.38      0.42        16\n",
      "\n",
      "-------------------------- K Nearest Neighbors ----------------------------\n",
      "\n",
      "\n",
      "Training Accuracy: 0.4918032786885246 Testing Accuracy 0.4375\n",
      "              precision    recall  f1-score   support\n",
      "\n",
      "           1       0.43      0.60      0.50         5\n",
      "           2       0.33      0.50      0.40         4\n",
      "           3       0.00      0.00      0.00         0\n",
      "           4       0.67      0.29      0.40         7\n",
      "\n",
      "   micro avg       0.44      0.44      0.44        16\n",
      "   macro avg       0.36      0.35      0.33        16\n",
      "weighted avg       0.51      0.44      0.43        16\n",
      "\n",
      "-------------------------- Decision Tree ----------------------------\n",
      "\n",
      "\n",
      "Training Accuracy: 0.9836065573770492 Testing Accuracy 0.25\n",
      "              precision    recall  f1-score   support\n",
      "\n",
      "           1       0.29      0.40      0.33         5\n",
      "           2       0.00      0.00      0.00         4\n",
      "           3       0.00      0.00      0.00         0\n",
      "           4       0.33      0.29      0.31         7\n",
      "\n",
      "    accuracy                           0.25        16\n",
      "   macro avg       0.15      0.17      0.16        16\n",
      "weighted avg       0.24      0.25      0.24        16\n",
      "\n",
      "-------------------------- Random Forest ----------------------------\n",
      "\n",
      "\n",
      "Training Accuracy: 0.9672131147540983 Testing Accuracy 0.25\n",
      "              precision    recall  f1-score   support\n",
      "\n",
      "           1       0.75      0.60      0.67         5\n",
      "           2       0.14      0.25      0.18         4\n",
      "           3       0.00      0.00      0.00         0\n",
      "           4       0.00      0.00      0.00         7\n",
      "\n",
      "    accuracy                           0.25        16\n",
      "   macro avg       0.22      0.21      0.21        16\n",
      "weighted avg       0.27      0.25      0.25        16\n",
      "\n"
     ]
    },
    {
     "name": "stdout",
     "output_type": "stream",
     "text": [
      "-------------------------- XGBoost ----------------------------\n",
      "\n",
      "\n",
      "Training Accuracy: 0.9672131147540983 Testing Accuracy 0.3125\n",
      "              precision    recall  f1-score   support\n",
      "\n",
      "           1       0.40      0.40      0.40         5\n",
      "           2       0.25      0.25      0.25         4\n",
      "           3       0.00      0.00      0.00         0\n",
      "           4       0.33      0.29      0.31         7\n",
      "\n",
      "    accuracy                           0.31        16\n",
      "   macro avg       0.25      0.23      0.24        16\n",
      "weighted avg       0.33      0.31      0.32        16\n",
      "\n",
      "\n",
      "\n"
     ]
    }
   ],
   "source": [
    "num_feats = [5,10,20,30]\n",
    "\n",
    "#loop which iterates through pipelines w/ increasing # of features\n",
    "for num in num_feats:\n",
    "    print(num,'features')\n",
    "    print('\\n')\n",
    "    X2 = X[nfl_feats[:num]]\n",
    "    y = y\n",
    "    pipelines_compare(X2, y, 42, .20)\n",
    "    print('\\n')"
   ]
  },
  {
   "cell_type": "markdown",
   "metadata": {},
   "source": [
    "Hmm, some better results but still nothing that's getting me really excited (although most of these are better than our baseline accuracy of 29%). Let's try adding a grid search feature to the Decision Tree and Random Forests."
   ]
  },
  {
   "cell_type": "code",
   "execution_count": 25,
   "metadata": {},
   "outputs": [],
   "source": [
    "#grid parameters\n",
    "grid1 = {\n",
    "    'dtree__criterion': ['gini', 'entropy'],\n",
    "    'dtree__max_depth': [None, 2, 3, 4, 5, 6],\n",
    "    'dtree__min_samples_split': [2, 5, 10],\n",
    "    'dtree__min_samples_leaf': [1, 2, 3, 4, 5, 6]\n",
    "}\n",
    "\n",
    "grid2 = {\n",
    "    'rf__criterion': ['gini', 'entropy'],\n",
    "    'rf__max_depth': [None, 2, 3, 4, 5, 6],\n",
    "    'rf__min_samples_split': [2, 5, 10],\n",
    "    'rf__min_samples_leaf': [1, 2, 3, 4, 5, 6]\n",
    "}\n",
    "\n",
    "grid3 = {\n",
    "    'xgb__max_depth': [1, 2, 3, 4, 5, 6],\n",
    "}\n",
    "\n",
    "#gridsearch functions\n",
    "\n",
    "gridsearch_DTree = GridSearchCV(estimator=DTree, \n",
    "                          param_grid=grid1, \n",
    "                          scoring='accuracy', \n",
    "                          cv=5)\n",
    "\n",
    "gridsearch_RF = GridSearchCV(estimator=RF, \n",
    "                          param_grid=grid2, \n",
    "                          scoring='accuracy', \n",
    "                          cv=5)\n",
    "\n",
    "gridsearch_XGB = GridSearchCV(estimator=XGB, \n",
    "                          param_grid=grid3, \n",
    "                          scoring='accuracy', \n",
    "                          cv=5)"
   ]
  },
  {
   "cell_type": "code",
   "execution_count": 26,
   "metadata": {},
   "outputs": [],
   "source": [
    "Models = [LR, KNN, gridsearch_DTree, gridsearch_RF, gridsearch_XGB]\n",
    "Model_Names = ['Logistic Regression','K Nearest Neighbors','Decision Tree','Random Forest','XGB']\n",
    "\n",
    "def pipelines_compare_grid(X, y, random_state, test_size):\n",
    "    \n",
    "    #train/test split\n",
    "    X_train, X_test, y_train, y_test = train_test_split(X, y, random_state=random_state, test_size=test_size)\n",
    "    \n",
    "    #Fit/Predict models\n",
    "    for model, name in zip(Models, Model_Names):\n",
    "        #fitting\n",
    "        model.fit(X_train, y_train)\n",
    "        #predicting\n",
    "        train_preds = model.predict(X_train)\n",
    "        test_preds = model.predict(X_test)\n",
    "        training_accuracy = accuracy_score(y_train, train_preds)\n",
    "        testing_accuracy = accuracy_score(y_test, test_preds)\n",
    "        #printing results\n",
    "        print('--------------------------', name,'----------------------------')\n",
    "        print('\\n')\n",
    "        print('Training Accuracy:', training_accuracy, 'Testing Accuracy', testing_accuracy)\n",
    "        print(classification_report(y_test, test_preds, labels=[1,2,3,4]))"
   ]
  },
  {
   "cell_type": "code",
   "execution_count": 27,
   "metadata": {},
   "outputs": [
    {
     "name": "stdout",
     "output_type": "stream",
     "text": [
      "5 features\n",
      "\n",
      "\n",
      "-------------------------- Logistic Regression ----------------------------\n",
      "\n",
      "\n",
      "Training Accuracy: 0.47540983606557374 Testing Accuracy 0.3125\n",
      "              precision    recall  f1-score   support\n",
      "\n",
      "           1       0.00      0.00      0.00         5\n",
      "           2       0.31      1.00      0.47         4\n",
      "           3       0.00      0.00      0.00         0\n",
      "           4       0.50      0.14      0.22         7\n",
      "\n",
      "    accuracy                           0.31        16\n",
      "   macro avg       0.20      0.29      0.17        16\n",
      "weighted avg       0.30      0.31      0.21        16\n",
      "\n",
      "-------------------------- K Nearest Neighbors ----------------------------\n",
      "\n",
      "\n",
      "Training Accuracy: 0.4918032786885246 Testing Accuracy 0.4375\n",
      "              precision    recall  f1-score   support\n",
      "\n",
      "           1       1.00      0.20      0.33         5\n",
      "           2       0.33      1.00      0.50         4\n",
      "           3       0.00      0.00      0.00         0\n",
      "           4       0.67      0.29      0.40         7\n",
      "\n",
      "   micro avg       0.44      0.44      0.44        16\n",
      "   macro avg       0.50      0.37      0.31        16\n",
      "weighted avg       0.69      0.44      0.40        16\n",
      "\n",
      "-------------------------- Decision Tree ----------------------------\n",
      "\n",
      "\n",
      "Training Accuracy: 0.45901639344262296 Testing Accuracy 0.3125\n",
      "              precision    recall  f1-score   support\n",
      "\n",
      "           1       0.00      0.00      0.00         5\n",
      "           2       0.29      1.00      0.44         4\n",
      "           3       0.00      0.00      0.00         0\n",
      "           4       1.00      0.14      0.25         7\n",
      "\n",
      "    accuracy                           0.31        16\n",
      "   macro avg       0.32      0.29      0.17        16\n",
      "weighted avg       0.51      0.31      0.22        16\n",
      "\n",
      "-------------------------- Random Forest ----------------------------\n",
      "\n",
      "\n",
      "Training Accuracy: 0.4918032786885246 Testing Accuracy 0.375\n",
      "              precision    recall  f1-score   support\n",
      "\n",
      "           1       1.00      0.20      0.33         5\n",
      "           2       0.33      1.00      0.50         4\n",
      "           3       0.00      0.00      0.00         0\n",
      "           4       0.50      0.14      0.22         7\n",
      "\n",
      "    accuracy                           0.38        16\n",
      "   macro avg       0.46      0.34      0.26        16\n",
      "weighted avg       0.61      0.38      0.33        16\n",
      "\n",
      "-------------------------- XGB ----------------------------\n",
      "\n",
      "\n",
      "Training Accuracy: 0.47540983606557374 Testing Accuracy 0.3125\n",
      "              precision    recall  f1-score   support\n",
      "\n",
      "           1       0.00      0.00      0.00         5\n",
      "           2       0.31      1.00      0.47         4\n",
      "           3       0.00      0.00      0.00         0\n",
      "           4       0.50      0.14      0.22         7\n",
      "\n",
      "    accuracy                           0.31        16\n",
      "   macro avg       0.20      0.29      0.17        16\n",
      "weighted avg       0.30      0.31      0.21        16\n",
      "\n",
      "\n",
      "\n",
      "10 features\n",
      "\n",
      "\n",
      "-------------------------- Logistic Regression ----------------------------\n",
      "\n",
      "\n",
      "Training Accuracy: 0.6229508196721312 Testing Accuracy 0.25\n",
      "              precision    recall  f1-score   support\n",
      "\n",
      "           1       1.00      0.20      0.33         5\n",
      "           2       0.22      0.50      0.31         4\n",
      "           3       0.00      0.00      0.00         0\n",
      "           4       0.25      0.14      0.18         7\n",
      "\n",
      "    accuracy                           0.25        16\n",
      "   macro avg       0.37      0.21      0.21        16\n",
      "weighted avg       0.48      0.25      0.26        16\n",
      "\n",
      "-------------------------- K Nearest Neighbors ----------------------------\n",
      "\n",
      "\n",
      "Training Accuracy: 0.5573770491803278 Testing Accuracy 0.25\n",
      "              precision    recall  f1-score   support\n",
      "\n",
      "           1       0.40      0.40      0.40         5\n",
      "           2       0.14      0.25      0.18         4\n",
      "           3       0.00      0.00      0.00         0\n",
      "           4       0.33      0.14      0.20         7\n",
      "\n",
      "    accuracy                           0.25        16\n",
      "   macro avg       0.22      0.20      0.20        16\n",
      "weighted avg       0.31      0.25      0.26        16\n",
      "\n",
      "-------------------------- Decision Tree ----------------------------\n",
      "\n",
      "\n",
      "Training Accuracy: 0.5737704918032787 Testing Accuracy 0.1875\n",
      "              precision    recall  f1-score   support\n",
      "\n",
      "           1       0.33      0.20      0.25         5\n",
      "           2       0.22      0.50      0.31         4\n",
      "           3       0.00      0.00      0.00         0\n",
      "           4       0.00      0.00      0.00         7\n",
      "\n",
      "    accuracy                           0.19        16\n",
      "   macro avg       0.14      0.17      0.14        16\n",
      "weighted avg       0.16      0.19      0.16        16\n",
      "\n",
      "-------------------------- Random Forest ----------------------------\n",
      "\n",
      "\n",
      "Training Accuracy: 0.5409836065573771 Testing Accuracy 0.375\n",
      "              precision    recall  f1-score   support\n",
      "\n",
      "           1       1.00      0.20      0.33         5\n",
      "           2       0.30      0.75      0.43         4\n",
      "           3       0.00      0.00      0.00         0\n",
      "           4       0.50      0.29      0.36         7\n",
      "\n",
      "    accuracy                           0.38        16\n",
      "   macro avg       0.45      0.31      0.28        16\n",
      "weighted avg       0.61      0.38      0.37        16\n",
      "\n",
      "-------------------------- XGB ----------------------------\n",
      "\n",
      "\n",
      "Training Accuracy: 0.5737704918032787 Testing Accuracy 0.3125\n",
      "              precision    recall  f1-score   support\n",
      "\n",
      "           1       1.00      0.20      0.33         5\n",
      "           2       0.22      0.50      0.31         4\n",
      "           3       0.00      0.00      0.00         0\n",
      "           4       0.40      0.29      0.33         7\n",
      "\n",
      "    accuracy                           0.31        16\n",
      "   macro avg       0.41      0.25      0.24        16\n",
      "weighted avg       0.54      0.31      0.33        16\n",
      "\n",
      "\n",
      "\n",
      "20 features\n",
      "\n",
      "\n",
      "-------------------------- Logistic Regression ----------------------------\n",
      "\n",
      "\n",
      "Training Accuracy: 0.7377049180327869 Testing Accuracy 0.3125\n",
      "              precision    recall  f1-score   support\n",
      "\n",
      "           1       1.00      0.40      0.57         5\n",
      "           2       0.29      0.50      0.36         4\n",
      "           3       0.00      0.00      0.00         0\n",
      "           4       0.25      0.14      0.18         7\n",
      "\n",
      "    accuracy                           0.31        16\n",
      "   macro avg       0.38      0.26      0.28        16\n",
      "weighted avg       0.49      0.31      0.35        16\n",
      "\n",
      "-------------------------- K Nearest Neighbors ----------------------------\n",
      "\n",
      "\n",
      "Training Accuracy: 0.45901639344262296 Testing Accuracy 0.1875\n",
      "              precision    recall  f1-score   support\n",
      "\n",
      "           1       0.00      0.00      0.00         5\n",
      "           2       0.38      0.75      0.50         4\n",
      "           3       0.00      0.00      0.00         0\n",
      "           4       0.00      0.00      0.00         7\n",
      "\n",
      "    accuracy                           0.19        16\n",
      "   macro avg       0.09      0.19      0.12        16\n",
      "weighted avg       0.09      0.19      0.12        16\n",
      "\n",
      "-------------------------- Decision Tree ----------------------------\n",
      "\n",
      "\n",
      "Training Accuracy: 0.5737704918032787 Testing Accuracy 0.3125\n",
      "              precision    recall  f1-score   support\n",
      "\n",
      "           1       0.60      0.60      0.60         5\n",
      "           2       0.33      0.25      0.29         4\n",
      "           3       0.00      0.00      0.00         0\n",
      "           4       0.25      0.14      0.18         7\n",
      "\n",
      "    accuracy                           0.31        16\n",
      "   macro avg       0.30      0.25      0.27        16\n",
      "weighted avg       0.38      0.31      0.34        16\n",
      "\n",
      "-------------------------- Random Forest ----------------------------\n",
      "\n",
      "\n",
      "Training Accuracy: 0.47540983606557374 Testing Accuracy 0.25\n",
      "              precision    recall  f1-score   support\n",
      "\n",
      "           1       0.50      0.20      0.29         5\n",
      "           2       0.25      0.75      0.38         4\n",
      "           3       0.00      0.00      0.00         0\n",
      "           4       0.00      0.00      0.00         7\n",
      "\n",
      "   micro avg       0.25      0.25      0.25        16\n",
      "   macro avg       0.19      0.24      0.17        16\n",
      "weighted avg       0.22      0.25      0.18        16\n",
      "\n",
      "-------------------------- XGB ----------------------------\n",
      "\n",
      "\n",
      "Training Accuracy: 0.6065573770491803 Testing Accuracy 0.3125\n",
      "              precision    recall  f1-score   support\n",
      "\n",
      "           1       0.67      0.40      0.50         5\n",
      "           2       0.25      0.50      0.33         4\n",
      "           3       0.00      0.00      0.00         0\n",
      "           4       0.25      0.14      0.18         7\n",
      "\n",
      "    accuracy                           0.31        16\n",
      "   macro avg       0.29      0.26      0.25        16\n",
      "weighted avg       0.38      0.31      0.32        16\n",
      "\n",
      "\n",
      "\n",
      "30 features\n",
      "\n",
      "\n",
      "-------------------------- Logistic Regression ----------------------------\n",
      "\n",
      "\n",
      "Training Accuracy: 0.8524590163934426 Testing Accuracy 0.375\n",
      "              precision    recall  f1-score   support\n",
      "\n",
      "           1       1.00      0.40      0.57         5\n",
      "           2       0.33      0.50      0.40         4\n",
      "           3       0.00      0.00      0.00         0\n",
      "           4       0.40      0.29      0.33         7\n",
      "\n",
      "    accuracy                           0.38        16\n",
      "   macro avg       0.43      0.30      0.33        16\n",
      "weighted avg       0.57      0.38      0.42        16\n",
      "\n",
      "-------------------------- K Nearest Neighbors ----------------------------\n",
      "\n",
      "\n",
      "Training Accuracy: 0.4918032786885246 Testing Accuracy 0.4375\n",
      "              precision    recall  f1-score   support\n",
      "\n",
      "           1       0.43      0.60      0.50         5\n",
      "           2       0.33      0.50      0.40         4\n",
      "           3       0.00      0.00      0.00         0\n",
      "           4       0.67      0.29      0.40         7\n",
      "\n",
      "   micro avg       0.44      0.44      0.44        16\n",
      "   macro avg       0.36      0.35      0.33        16\n",
      "weighted avg       0.51      0.44      0.43        16\n",
      "\n"
     ]
    },
    {
     "name": "stdout",
     "output_type": "stream",
     "text": [
      "-------------------------- Decision Tree ----------------------------\n",
      "\n",
      "\n",
      "Training Accuracy: 0.5737704918032787 Testing Accuracy 0.3125\n",
      "              precision    recall  f1-score   support\n",
      "\n",
      "           1       0.60      0.60      0.60         5\n",
      "           2       0.33      0.25      0.29         4\n",
      "           3       0.00      0.00      0.00         0\n",
      "           4       0.25      0.14      0.18         7\n",
      "\n",
      "    accuracy                           0.31        16\n",
      "   macro avg       0.30      0.25      0.27        16\n",
      "weighted avg       0.38      0.31      0.34        16\n",
      "\n",
      "-------------------------- Random Forest ----------------------------\n",
      "\n",
      "\n",
      "Training Accuracy: 0.45901639344262296 Testing Accuracy 0.1875\n",
      "              precision    recall  f1-score   support\n",
      "\n",
      "           1       0.00      0.00      0.00         5\n",
      "           2       0.21      0.75      0.33         4\n",
      "           3       0.00      0.00      0.00         0\n",
      "           4       0.00      0.00      0.00         7\n",
      "\n",
      "   micro avg       0.19      0.19      0.19        16\n",
      "   macro avg       0.05      0.19      0.08        16\n",
      "weighted avg       0.05      0.19      0.08        16\n",
      "\n",
      "-------------------------- XGB ----------------------------\n",
      "\n",
      "\n",
      "Training Accuracy: 0.9836065573770492 Testing Accuracy 0.3125\n",
      "              precision    recall  f1-score   support\n",
      "\n",
      "           1       0.40      0.40      0.40         5\n",
      "           2       0.25      0.25      0.25         4\n",
      "           3       0.00      0.00      0.00         0\n",
      "           4       0.33      0.29      0.31         7\n",
      "\n",
      "    accuracy                           0.31        16\n",
      "   macro avg       0.25      0.23      0.24        16\n",
      "weighted avg       0.33      0.31      0.32        16\n",
      "\n",
      "\n",
      "\n"
     ]
    }
   ],
   "source": [
    "num_feats = [5,10,20,30]\n",
    "\n",
    "#loop iterating thru pipelines w/ increasing # of features \n",
    "for num in num_feats:\n",
    "    print(num,'features')\n",
    "    print('\\n')\n",
    "    X2 = X[nfl_feats[:num]]\n",
    "    y = y\n",
    "    pipelines_compare_grid(X2, y, 42, .20)\n",
    "    print('\\n')"
   ]
  },
  {
   "cell_type": "markdown",
   "metadata": {},
   "source": [
    "KNN is giving us our highest F1 score of .44 with both 5 and 30 features. Let's use our final model w/ 5 features so it is more easily explainable. "
   ]
  },
  {
   "cell_type": "code",
   "execution_count": 34,
   "metadata": {},
   "outputs": [
    {
     "data": {
      "text/plain": [
       "2    0.376623\n",
       "4    0.311688\n",
       "1    0.220779\n",
       "3    0.090909\n",
       "Name: days_missed, dtype: float64"
      ]
     },
     "execution_count": 34,
     "metadata": {},
     "output_type": "execute_result"
    }
   ],
   "source": [
    "y.value_counts(normalize=True)"
   ]
  },
  {
   "cell_type": "markdown",
   "metadata": {},
   "source": [
    "## Final Model"
   ]
  },
  {
   "cell_type": "markdown",
   "metadata": {},
   "source": [
    "For the sake of clarity and cleanliness, the below section will reiterate the final model."
   ]
  },
  {
   "cell_type": "code",
   "execution_count": 29,
   "metadata": {},
   "outputs": [],
   "source": [
    "#train test split with new X. \n",
    "X3 = X[nfl_feats[:5]]\n",
    "\n",
    "X_train, X_test, y_train, y_test = train_test_split(X3, y, random_state=42, test_size=.2)"
   ]
  },
  {
   "cell_type": "code",
   "execution_count": 30,
   "metadata": {},
   "outputs": [
    {
     "data": {
      "text/plain": [
       "Index(['BodyPart_Foot', 'BodyPart_Knee', 'FieldType_Natural',\n",
       "       'PositionGroup_LB', 'BodyPart_Ankle'],\n",
       "      dtype='object')"
      ]
     },
     "execution_count": 30,
     "metadata": {},
     "output_type": "execute_result"
    }
   ],
   "source": [
    "#A reminder of what our top 30 features are \n",
    "nfl_feats[:5]"
   ]
  },
  {
   "cell_type": "code",
   "execution_count": 31,
   "metadata": {},
   "outputs": [
    {
     "name": "stdout",
     "output_type": "stream",
     "text": [
      "The training accuracy is: 0.4918032786885246\n",
      "\n",
      "\n",
      "The testing accuracy is: 0.4375\n",
      "\n",
      "\n",
      "-------Classification Report--------\n",
      "              precision    recall  f1-score   support\n",
      "\n",
      "           1       1.00      0.20      0.33         5\n",
      "           2       0.33      1.00      0.50         4\n",
      "           3       0.00      0.00      0.00         0\n",
      "           4       0.67      0.29      0.40         7\n",
      "\n",
      "   micro avg       0.44      0.44      0.44        16\n",
      "   macro avg       0.50      0.37      0.31        16\n",
      "weighted avg       0.69      0.44      0.40        16\n",
      "\n",
      "-------Confusion Matrix--------\n"
     ]
    },
    {
     "data": {
      "image/png": "[encoded data removed]",
      "text/plain": [
       "<Figure size 432x288 with 1 Axes>"
      ]
     },
     "metadata": {},
     "output_type": "display_data"
    },
    {
     "data": {
      "text/plain": [
       "<matplotlib.axes._subplots.AxesSubplot at 0x1c24f585c0>"
      ]
     },
     "execution_count": 31,
     "metadata": {},
     "output_type": "execute_result"
    }
   ],
   "source": [
    "#fit\n",
    "KNN.fit(X_train, y_train)\n",
    "#predict\n",
    "pred_train = KNN.predict(X_train)\n",
    "pred_test = KNN.predict(X_test)\n",
    "training_acc = accuracy_score(y_train, pred_train)\n",
    "testing_acc = accuracy_score(y_test, pred_test)\n",
    "#confusion matrix\n",
    "cm = ConfusionMatrix(KNN)\n",
    "cm.fit(X_train, y_train)\n",
    "cm.score(X_test, y_test)\n",
    "#printing results\n",
    "print('The training accuracy is:', training_acc)\n",
    "print('\\n')\n",
    "print('The testing accuracy is:', testing_acc)\n",
    "print('\\n')\n",
    "print('-------Classification Report--------')\n",
    "print(classification_report(y_test, pred_test, labels=[1,2,3,4]))\n",
    "print('-------Confusion Matrix--------')\n",
    "cm.show() "
   ]
  },
  {
   "cell_type": "markdown",
   "metadata": {},
   "source": [
    "Our final model still isn't performing superbly, however it did improve our chances of predicting days missed by 10% than random guessing. It's not perfect but it's improved!"
   ]
  },
  {
   "cell_type": "markdown",
   "metadata": {},
   "source": [
    "## Predicting Days Missed With Our Model"
   ]
  },
  {
   "cell_type": "markdown",
   "metadata": {},
   "source": [
    "Let's try out the model! Input information concerning a player injury below and see how many days our model predicts he might miss!"
   ]
  },
  {
   "cell_type": "code",
   "execution_count": 32,
   "metadata": {},
   "outputs": [],
   "source": [
    "def predict():\n",
    "    #gather new info\n",
    "    new_data = []\n",
    "    print('Please answer the below yes or no questions. Please answer 0 for no and 1 for yes.')\n",
    "    print('\\n')\n",
    "    foot = input('Is the injury to the foot?')\n",
    "    new_data.append(foot)\n",
    "    knee = input('Is the injury to the knee?')\n",
    "    new_data.append(knee)\n",
    "    natural = input('Was the field a grass field?')\n",
    "    new_data.append(natural)\n",
    "    LB = input('Was the player a linebacker?')\n",
    "    new_data.append(LB)\n",
    "    ankle = input('Is the injury to the ankle?')\n",
    "    new_data.append(ankle)\n",
    "    \n",
    "    #put info in correct shape\n",
    "    new_data = list(map(int, new_data))\n",
    "    new_data = np.array(new_data)\n",
    "    new_data = new_data.reshape(1,-1)\n",
    "    \n",
    "    #predict \n",
    "    prediction = KNN.predict(new_data)\n",
    "    print('\\n')\n",
    "    print('\\n')\n",
    "    \n",
    "    #printing prediction\n",
    "    for x in prediction:\n",
    "        if x==1: \n",
    "            print('The player will likely miss one week or less.')\n",
    "        elif x==2: \n",
    "            print('The player will likely miss one to three weeks.')\n",
    "        elif x==3: \n",
    "            print('The player will likely miss three week to two months.')\n",
    "        else: \n",
    "            print('The player will likely miss 2 or more months.')\n",
    "    \n",
    "    "
   ]
  },
  {
   "cell_type": "code",
   "execution_count": 33,
   "metadata": {},
   "outputs": [
    {
     "name": "stdout",
     "output_type": "stream",
     "text": [
      "Please answer the below yes or no questions. Please answer 0 for no and 1 for yes.\n",
      "\n",
      "\n",
      "Is the injury to the foot?0\n",
      "Is the injury to the knee?0\n",
      "Was the field a grass field?1\n",
      "Was the player a linebacker?1\n",
      "Is the injury to the ankle?1\n",
      "\n",
      "\n",
      "\n",
      "\n",
      "The player will likely miss one week or less.\n"
     ]
    }
   ],
   "source": [
    "predict()"
   ]
  },
  {
   "cell_type": "code",
   "execution_count": 35,
   "metadata": {},
   "outputs": [
    {
     "data": {
      "text/plain": [
       "2    0.376623\n",
       "4    0.311688\n",
       "1    0.220779\n",
       "3    0.090909\n",
       "Name: days_missed, dtype: float64"
      ]
     },
     "execution_count": 35,
     "metadata": {},
     "output_type": "execute_result"
    }
   ],
   "source": [
    "y.value_counts(normalize=True)"
   ]
  },
  {
   "cell_type": "markdown",
   "metadata": {},
   "source": [
    "## Final Comments"
   ]
  },
  {
   "cell_type": "markdown",
   "metadata": {},
   "source": [
    "While this was an interesting and thought provoking project, the dataset left me wishing for more. Less extraneous information and more information regarding the actual injuries (more specifics, upper body injuries), as well as other information regarding the time in the game/season it occured etc. The data set was also quite small and would likely perform with improved accuracy. "
   ]
  }
 ],
 "metadata": {
  "kernelspec": {
   "display_name": "Python 3",
   "language": "python",
   "name": "python3"
  },
  "language_info": {
   "codemirror_mode": {
    "name": "ipython",
    "version": 3
   },
   "file_extension": ".py",
   "mimetype": "text/x-python",
   "name": "python",
   "nbconvert_exporter": "python",
   "pygments_lexer": "ipython3",
   "version": "3.6.9"
  }
 },
 "nbformat": 4,
 "nbformat_minor": 2
}
